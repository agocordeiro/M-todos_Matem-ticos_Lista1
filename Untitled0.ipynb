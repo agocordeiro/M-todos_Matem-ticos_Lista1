{
  "nbformat": 4,
  "nbformat_minor": 0,
  "metadata": {
    "colab": {
      "name": "Untitled0.ipynb",
      "provenance": [],
      "collapsed_sections": []
    },
    "kernelspec": {
      "name": "python3",
      "display_name": "Python 3"
    }
  },
  "cells": [
    {
      "cell_type": "code",
      "metadata": {
        "id": "RASNUw_4BDBy",
        "outputId": "445e9943-7972-4b76-cf38-9d77023cacf3",
        "colab": {
          "base_uri": "https://localhost:8080/",
          "height": 34
        }
      },
      "source": [
        "import sympy as sp\n",
        "\n",
        "# Capítulo 7, seção 7.1, exercício 2.e)\n",
        "# Calcule f(x).g(x) em C[0,1]\n",
        "# f(x) = |x - 1/2|\n",
        "# g(x) = 1/2 - |x - 1/2|\n",
        "\n",
        "x = sp.symbols('x')\n",
        "# Cada expressão abaixo corresponde ao comportamento do produto das funções em cada intervalo\n",
        "h1 = -(x**2) + (x/2) # para [0, 1/2]\n",
        "h2 = -(x**2) + (3*x/2) - 1/2 # para [1/2, 1]\n",
        "# Calcula e mostra o resultado das integrais definidas em seus respectivos intervalos\n",
        "Int_def1 = sp.integrate(h1, (x, 0, 1/2))\n",
        "Int_def2 = sp.integrate(h2, (x, 1/2, 1))\n",
        "Int_def_total = Int_def1 + Int_def2\n",
        "print(\"Produto interno f(x)*g(x) = \", Int_def_total)"
      ],
      "execution_count": null,
      "outputs": [
        {
          "output_type": "stream",
          "text": [
            "Produto interno f(x)*g(x) =  0.0416666666666667\n"
          ],
          "name": "stdout"
        }
      ]
    },
    {
      "cell_type": "code",
      "metadata": {
        "id": "6rrPanoXBGe4",
        "outputId": "c25ce74d-71c8-4b21-ed64-e74efee3c76e",
        "colab": {
          "base_uri": "https://localhost:8080/",
          "height": 34
        }
      },
      "source": [
        "# Capítulo 7, seção 7.1, exercício 3.a) \n",
        "# Calcule f(x).g(x) em C[0,1], considerando a expressão (7-10)\n",
        "# f(x) = 1 - 2*x\n",
        "# g(x) = e^(-x)\n",
        "# r(x) = e^x\n",
        "\n",
        "x = sp.symbols('x')\n",
        "# Definindo as funções do exercício\n",
        "f = 1 - 2*x\n",
        "g = sp.E**(-x)\n",
        "r = sp.E**(x)\n",
        "# Calculando a integral definida\n",
        "Int_def = sp.integrate(f*g*r, (x, 0, 1))\n",
        "print(\"Resposta f(x).g(x) em C[0,1]: \", Int_def)"
      ],
      "execution_count": null,
      "outputs": [
        {
          "output_type": "stream",
          "text": [
            "Resposta f(x).g(x) em C[0,1]:  0\n"
          ],
          "name": "stdout"
        }
      ]
    },
    {
      "cell_type": "code",
      "metadata": {
        "id": "8GkT5wczN5US",
        "outputId": "66c82af8-369c-4006-b801-69da2a72e336",
        "colab": {
          "base_uri": "https://localhost:8080/",
          "height": 34
        }
      },
      "source": [
        "import sympy as sp\n",
        "\n",
        "# Capítulo 7, seção 7.2, exercício 3.e)\n",
        "# Calcule ||f||\n",
        "# f(x) = ln(x+1)\n",
        "\n",
        "x = sp.symbols('x')\n",
        "f = sp.ln(x + 1)\n",
        "# Calcula o modulo do vetor f\n",
        "modulo_f = sp.N(sp.sqrt(sp.integrate(f**2, (x, 0, 1))))\n",
        "print(\"Resposta: ||f|| = \", modulo_f)"
      ],
      "execution_count": null,
      "outputs": [
        {
          "output_type": "stream",
          "text": [
            "Resposta: ||f|| =  0.433955418904548\n"
          ],
          "name": "stdout"
        }
      ]
    },
    {
      "cell_type": "code",
      "metadata": {
        "id": "N11nCj_iStzL",
        "outputId": "ead34c26-bcb5-48d1-ce8a-e06d1c1d8b05",
        "colab": {
          "base_uri": "https://localhost:8080/",
          "height": 119
        }
      },
      "source": [
        "import sympy as sp\n",
        "\n",
        "# Capítulo 7,seção 7.2, exercício 5.a)(ii) e 5.a)(iii)\n",
        "# Cacule o cosseno entre vetores p e q\n",
        "\n",
        "# a)(ii)\n",
        "x = sp.symbols('x')\n",
        "p = x\n",
        "q = x**2\n",
        "prod_int = sp.integrate(p*q, (x, -1, 1))\n",
        "modulo_p = sp.sqrt(sp.integrate((p**2), (x, -1, 1)))\n",
        "modulo_q = sp.sqrt(sp.integrate((q**2), (x, -1, 1)))\n",
        "cosseno = prod_int/(modulo_p*modulo_q)\n",
        "print(\"5.a)(ii)\")\n",
        "print(\"Cosseno =\", cosseno)\n",
        "print()\n",
        "\n",
        "# a)(iii)\n",
        "x = sp.symbols('x')\n",
        "p = x\n",
        "q = 1 - x\n",
        "prod_int = sp.integrate(p*q, (x, -1, 1))\n",
        "modulo_p = sp.sqrt(sp.integrate((p**2), (x, -1, 1)))\n",
        "modulo_q = sp.sqrt(sp.integrate((q**2), (x, -1, 1)))\n",
        "cosseno = prod_int/(modulo_p*modulo_q)\n",
        "print(\"5.a)(iii)\")\n",
        "print(\"Cosseno =\", cosseno)\n",
        "print()"
      ],
      "execution_count": 8,
      "outputs": [
        {
          "output_type": "stream",
          "text": [
            "5.a)(ii)\n",
            "Cosseno = 0\n",
            "\n",
            "5.a)(iii)\n",
            "Cosseno = -1/2\n",
            "\n"
          ],
          "name": "stdout"
        }
      ]
    },
    {
      "cell_type": "code",
      "metadata": {
        "id": "JrIBp81dX9eJ",
        "outputId": "8052b9e8-d800-4301-fc7d-d4d98a9aac67",
        "colab": {
          "base_uri": "https://localhost:8080/",
          "height": 119
        }
      },
      "source": [
        "import sympy as sp\n",
        "\n",
        "# Capítulo 7,seção 7.2, exercício 5.b)(ii) e 5.b)(iii)\n",
        "# Cacule o cosseno entre vetores p e q\n",
        "\n",
        "# b)(ii)\n",
        "x = sp.symbols('x')\n",
        "p = x\n",
        "q = x**2\n",
        "prod_int = sp.integrate(p*q, (x, 0, 1))\n",
        "modulo_p = sp.sqrt(sp.integrate((p**2), (x, 0, 1)))\n",
        "modulo_q = sp.sqrt(sp.integrate((q**2), (x, 0, 1)))\n",
        "cosseno = prod_int/(modulo_p*modulo_q)\n",
        "print(\"5.b)(ii)\")\n",
        "print(\"Cosseno =\", cosseno)\n",
        "print()\n",
        "\n",
        "# b)(iii)\n",
        "x = sp.symbols('x')\n",
        "p = x\n",
        "q = 1 - x\n",
        "prod_int = sp.integrate(p*q, (x, 0, 1))\n",
        "modulo_p = sp.sqrt(sp.integrate((p**2), (x, 0, 1)))\n",
        "modulo_q = sp.sqrt(sp.integrate((q**2), (x, 0, 1)))\n",
        "cosseno = prod_int/(modulo_p*modulo_q)\n",
        "print(\"5.b)(iii)\")\n",
        "print(\"Cosseno =\", cosseno)\n",
        "print()"
      ],
      "execution_count": 9,
      "outputs": [
        {
          "output_type": "stream",
          "text": [
            "5.b)(ii)\n",
            "Cosseno = sqrt(15)/4\n",
            "\n",
            "5.b)(iii)\n",
            "Cosseno = 1/2\n",
            "\n"
          ],
          "name": "stdout"
        }
      ]
    },
    {
      "cell_type": "code",
      "metadata": {
        "id": "I8uyBmizbdVp",
        "outputId": "91755892-1009-44ee-8fc5-7277f9e5b15d",
        "colab": {
          "base_uri": "https://localhost:8080/",
          "height": 119
        }
      },
      "source": [
        "# Capítulo 7, seção 7.3, exercício 5\n",
        "# Normalize os vetores p, q e r\n",
        "# p(x) = 1\n",
        "# q(x) = x\n",
        "# r(x) = x**2 - 1/3\n",
        "\n",
        "x = sp.symbols('x')\n",
        "\n",
        "# Para  p\n",
        "p = 1\n",
        "modulo_p = sp.sqrt(sp.integrate((p**2), (x, -1, 1)))\n",
        "p_unit = p/modulo_p\n",
        "print(\"Vetor p unitário: \", p_unit)\n",
        "print()\n",
        "\n",
        "# Para q\n",
        "q = x\n",
        "modulo_q = sp.sqrt(sp.integrate((q**2), (x, -1, 1)))\n",
        "q_unit = q/modulo_q\n",
        "print(\"Vetor q unitário: \", q_unit)\n",
        "print()\n",
        "\n",
        "# Para r\n",
        "r = x**2 - 1/3\n",
        "modulo_r = sp.sqrt(sp.integrate((r**2), (x, -1, 1)))\n",
        "r_unit = r/modulo_r\n",
        "print(\"Vetor r unitário: \", r_unit)\n",
        "print()"
      ],
      "execution_count": 11,
      "outputs": [
        {
          "output_type": "stream",
          "text": [
            "Vetor p normalizado:  sqrt(2)/2\n",
            "\n",
            "Vetor q normalizado:  sqrt(6)*x/2\n",
            "\n",
            "Vetor r normalizado:  2.37170824512628*x**2 - 0.790569415042095\n",
            "\n"
          ],
          "name": "stdout"
        }
      ]
    }
  ]
}